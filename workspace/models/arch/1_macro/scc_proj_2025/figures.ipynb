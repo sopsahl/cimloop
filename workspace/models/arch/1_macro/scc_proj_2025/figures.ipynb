{
 "cells": [
  {
   "cell_type": "markdown",
   "id": "7e6d11d8",
   "metadata": {},
   "source": [
    "# \"A 95.6-TOPS/W Deep Learning Inference Accelerator With Per-Vector Scaled 4-bit Quantization in 5 nm\" created by Simon Opsahl, Christina Crow, and Carlos Villa.\n",
    "\n",
    "This is the notebook for generating plots for the report\n",
    "Uses data from ./results"
   ]
  },
  {
   "cell_type": "markdown",
   "id": "2c57245d",
   "metadata": {},
   "source": [
    "## Voltage Plot\n",
    "Plots normalized energy efficiency over 0.46-1.05 nm"
   ]
  },
  {
   "cell_type": "markdown",
   "id": "ec04e2da",
   "metadata": {},
   "source": [
    "## Technology Plot\n",
    "Plots normalized energy efficiency at 0.67 V over 5-65 nm\n",
    "Also plot area breakdown over 5-65 nm"
   ]
  },
  {
   "cell_type": "markdown",
   "id": "c9140c31",
   "metadata": {},
   "source": [
    "## Datapath width\n",
    "\n",
    "Plots normalized energy efficiency over 16, 32, 64, 128 elements for the buffer width (for 4bit and 4 bit vsq)\n"
   ]
  },
  {
   "cell_type": "markdown",
   "id": "8a83c6a1",
   "metadata": {},
   "source": [
    "## Energy Table recreation from the paper"
   ]
  }
 ],
 "metadata": {
  "kernelspec": {
   "display_name": "Julia 1.11.3",
   "language": "julia",
   "name": "julia-1.11"
  },
  "language_info": {
   "file_extension": ".jl",
   "mimetype": "application/julia",
   "name": "julia",
   "version": "1.11.3"
  }
 },
 "nbformat": 4,
 "nbformat_minor": 5
}
